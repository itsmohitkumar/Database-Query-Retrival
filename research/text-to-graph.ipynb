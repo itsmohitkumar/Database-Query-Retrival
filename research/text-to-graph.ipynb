{
 "cells": [
  {
   "cell_type": "markdown",
   "metadata": {},
   "source": [
    "Step 1: Install Required Packages"
   ]
  },
  {
   "cell_type": "code",
   "execution_count": 1,
   "metadata": {},
   "outputs": [
    {
     "name": "stdout",
     "output_type": "stream",
     "text": [
      "Defaulting to user installation because normal site-packages is not writeable\n",
      "Requirement already satisfied: langchain in /Users/taurangela/Library/Python/3.9/lib/python/site-packages (0.2.14)\n",
      "Requirement already satisfied: langchain-community in /Users/taurangela/Library/Python/3.9/lib/python/site-packages (0.2.12)\n",
      "Requirement already satisfied: langchain-openai in /Users/taurangela/Library/Python/3.9/lib/python/site-packages (0.1.22)\n",
      "Requirement already satisfied: neo4j in /Users/taurangela/Library/Python/3.9/lib/python/site-packages (5.23.1)\n",
      "Requirement already satisfied: llama_index in /Users/taurangela/Library/Python/3.9/lib/python/site-packages (0.10.65)\n",
      "Requirement already satisfied: python-dotenv in /Users/taurangela/Library/Python/3.9/lib/python/site-packages (1.0.1)\n",
      "Requirement already satisfied: async-timeout<5.0.0,>=4.0.0 in /Users/taurangela/Library/Python/3.9/lib/python/site-packages (from langchain) (4.0.3)\n",
      "Requirement already satisfied: langchain-core<0.3.0,>=0.2.32 in /Users/taurangela/Library/Python/3.9/lib/python/site-packages (from langchain) (0.2.33)\n",
      "Requirement already satisfied: langsmith<0.2.0,>=0.1.17 in /Users/taurangela/Library/Python/3.9/lib/python/site-packages (from langchain) (0.1.99)\n",
      "Requirement already satisfied: aiohttp<4.0.0,>=3.8.3 in /Users/taurangela/Library/Python/3.9/lib/python/site-packages (from langchain) (3.10.5)\n",
      "Requirement already satisfied: numpy<2,>=1 in /Users/taurangela/Library/Python/3.9/lib/python/site-packages (from langchain) (1.26.4)\n",
      "Requirement already satisfied: PyYAML>=5.3 in /Users/taurangela/Library/Python/3.9/lib/python/site-packages (from langchain) (6.0.2)\n",
      "Requirement already satisfied: requests<3,>=2 in /Users/taurangela/Library/Python/3.9/lib/python/site-packages (from langchain) (2.32.3)\n",
      "Requirement already satisfied: tenacity!=8.4.0,<9.0.0,>=8.1.0 in /Users/taurangela/Library/Python/3.9/lib/python/site-packages (from langchain) (8.5.0)\n",
      "Requirement already satisfied: SQLAlchemy<3,>=1.4 in /Users/taurangela/Library/Python/3.9/lib/python/site-packages (from langchain) (2.0.32)\n",
      "Requirement already satisfied: langchain-text-splitters<0.3.0,>=0.2.0 in /Users/taurangela/Library/Python/3.9/lib/python/site-packages (from langchain) (0.2.2)\n",
      "Requirement already satisfied: pydantic<3,>=1 in /Users/taurangela/Library/Python/3.9/lib/python/site-packages (from langchain) (2.8.2)\n",
      "Requirement already satisfied: dataclasses-json<0.7,>=0.5.7 in /Users/taurangela/Library/Python/3.9/lib/python/site-packages (from langchain-community) (0.6.7)\n",
      "Requirement already satisfied: tiktoken<1,>=0.7 in /Users/taurangela/Library/Python/3.9/lib/python/site-packages (from langchain-openai) (0.7.0)\n",
      "Requirement already satisfied: openai<2.0.0,>=1.40.0 in /Users/taurangela/Library/Python/3.9/lib/python/site-packages (from langchain-openai) (1.41.0)\n",
      "Requirement already satisfied: pytz in /Users/taurangela/Library/Python/3.9/lib/python/site-packages (from neo4j) (2024.1)\n",
      "Requirement already satisfied: llama-index-readers-llama-parse>=0.1.2 in /Users/taurangela/Library/Python/3.9/lib/python/site-packages (from llama_index) (0.1.6)\n",
      "Requirement already satisfied: llama-index-embeddings-openai<0.2.0,>=0.1.5 in /Users/taurangela/Library/Python/3.9/lib/python/site-packages (from llama_index) (0.1.11)\n",
      "Requirement already satisfied: llama-index-legacy<0.10.0,>=0.9.48 in /Users/taurangela/Library/Python/3.9/lib/python/site-packages (from llama_index) (0.9.48.post3)\n",
      "Requirement already satisfied: llama-index-cli<0.2.0,>=0.1.2 in /Users/taurangela/Library/Python/3.9/lib/python/site-packages (from llama_index) (0.1.13)\n",
      "Requirement already satisfied: llama-index-llms-openai<0.2.0,>=0.1.27 in /Users/taurangela/Library/Python/3.9/lib/python/site-packages (from llama_index) (0.1.29)\n",
      "Requirement already satisfied: llama-index-core<0.11.0,>=0.10.65 in /Users/taurangela/Library/Python/3.9/lib/python/site-packages (from llama_index) (0.10.67)\n",
      "Requirement already satisfied: llama-index-readers-file<0.2.0,>=0.1.4 in /Users/taurangela/Library/Python/3.9/lib/python/site-packages (from llama_index) (0.1.33)\n",
      "Requirement already satisfied: llama-index-multi-modal-llms-openai<0.2.0,>=0.1.3 in /Users/taurangela/Library/Python/3.9/lib/python/site-packages (from llama_index) (0.1.9)\n",
      "Requirement already satisfied: llama-index-indices-managed-llama-cloud>=0.2.0 in /Users/taurangela/Library/Python/3.9/lib/python/site-packages (from llama_index) (0.2.7)\n",
      "Requirement already satisfied: llama-index-question-gen-openai<0.2.0,>=0.1.2 in /Users/taurangela/Library/Python/3.9/lib/python/site-packages (from llama_index) (0.1.3)\n",
      "Requirement already satisfied: llama-index-program-openai<0.2.0,>=0.1.3 in /Users/taurangela/Library/Python/3.9/lib/python/site-packages (from llama_index) (0.1.7)\n",
      "Requirement already satisfied: llama-index-agent-openai<0.3.0,>=0.1.4 in /Users/taurangela/Library/Python/3.9/lib/python/site-packages (from llama_index) (0.2.9)\n",
      "Requirement already satisfied: yarl<2.0,>=1.0 in /Users/taurangela/Library/Python/3.9/lib/python/site-packages (from aiohttp<4.0.0,>=3.8.3->langchain) (1.9.4)\n",
      "Requirement already satisfied: frozenlist>=1.1.1 in /Users/taurangela/Library/Python/3.9/lib/python/site-packages (from aiohttp<4.0.0,>=3.8.3->langchain) (1.4.1)\n",
      "Requirement already satisfied: multidict<7.0,>=4.5 in /Users/taurangela/Library/Python/3.9/lib/python/site-packages (from aiohttp<4.0.0,>=3.8.3->langchain) (6.0.5)\n",
      "Requirement already satisfied: attrs>=17.3.0 in /Users/taurangela/Library/Python/3.9/lib/python/site-packages (from aiohttp<4.0.0,>=3.8.3->langchain) (24.2.0)\n",
      "Requirement already satisfied: aiohappyeyeballs>=2.3.0 in /Users/taurangela/Library/Python/3.9/lib/python/site-packages (from aiohttp<4.0.0,>=3.8.3->langchain) (2.4.0)\n",
      "Requirement already satisfied: aiosignal>=1.1.2 in /Users/taurangela/Library/Python/3.9/lib/python/site-packages (from aiohttp<4.0.0,>=3.8.3->langchain) (1.3.1)\n",
      "Requirement already satisfied: typing-inspect<1,>=0.4.0 in /Users/taurangela/Library/Python/3.9/lib/python/site-packages (from dataclasses-json<0.7,>=0.5.7->langchain-community) (0.9.0)\n",
      "Requirement already satisfied: marshmallow<4.0.0,>=3.18.0 in /Users/taurangela/Library/Python/3.9/lib/python/site-packages (from dataclasses-json<0.7,>=0.5.7->langchain-community) (3.21.3)\n",
      "Requirement already satisfied: typing-extensions>=4.7 in /Users/taurangela/Library/Python/3.9/lib/python/site-packages (from langchain-core<0.3.0,>=0.2.32->langchain) (4.12.2)\n",
      "Requirement already satisfied: jsonpatch<2.0,>=1.33 in /Users/taurangela/Library/Python/3.9/lib/python/site-packages (from langchain-core<0.3.0,>=0.2.32->langchain) (1.33)\n",
      "Requirement already satisfied: packaging<25,>=23.2 in /Users/taurangela/Library/Python/3.9/lib/python/site-packages (from langchain-core<0.3.0,>=0.2.32->langchain) (24.1)\n",
      "Requirement already satisfied: jsonpointer>=1.9 in /Users/taurangela/Library/Python/3.9/lib/python/site-packages (from jsonpatch<2.0,>=1.33->langchain-core<0.3.0,>=0.2.32->langchain) (3.0.0)\n",
      "Requirement already satisfied: orjson<4.0.0,>=3.9.14 in /Users/taurangela/Library/Python/3.9/lib/python/site-packages (from langsmith<0.2.0,>=0.1.17->langchain) (3.10.7)\n",
      "Requirement already satisfied: pandas in /Users/taurangela/Library/Python/3.9/lib/python/site-packages (from llama-index-core<0.11.0,>=0.10.65->llama_index) (2.2.2)\n",
      "Requirement already satisfied: nltk!=3.9,>=3.8.1 in /Users/taurangela/Library/Python/3.9/lib/python/site-packages (from llama-index-core<0.11.0,>=0.10.65->llama_index) (3.9.1)\n",
      "Requirement already satisfied: dirtyjson<2.0.0,>=1.0.8 in /Users/taurangela/Library/Python/3.9/lib/python/site-packages (from llama-index-core<0.11.0,>=0.10.65->llama_index) (1.0.8)\n",
      "Requirement already satisfied: pillow>=9.0.0 in /Users/taurangela/Library/Python/3.9/lib/python/site-packages (from llama-index-core<0.11.0,>=0.10.65->llama_index) (10.4.0)\n",
      "Requirement already satisfied: nest-asyncio<2.0.0,>=1.5.8 in /Users/taurangela/Library/Python/3.9/lib/python/site-packages (from llama-index-core<0.11.0,>=0.10.65->llama_index) (1.6.0)\n",
      "Requirement already satisfied: deprecated>=1.2.9.3 in /Users/taurangela/Library/Python/3.9/lib/python/site-packages (from llama-index-core<0.11.0,>=0.10.65->llama_index) (1.2.14)\n",
      "Requirement already satisfied: httpx in /Users/taurangela/Library/Python/3.9/lib/python/site-packages (from llama-index-core<0.11.0,>=0.10.65->llama_index) (0.27.0)\n",
      "Requirement already satisfied: wrapt in /Users/taurangela/Library/Python/3.9/lib/python/site-packages (from llama-index-core<0.11.0,>=0.10.65->llama_index) (1.16.0)\n",
      "Requirement already satisfied: tqdm<5.0.0,>=4.66.1 in /Users/taurangela/Library/Python/3.9/lib/python/site-packages (from llama-index-core<0.11.0,>=0.10.65->llama_index) (4.66.5)\n",
      "Requirement already satisfied: fsspec>=2023.5.0 in /Users/taurangela/Library/Python/3.9/lib/python/site-packages (from llama-index-core<0.11.0,>=0.10.65->llama_index) (2024.6.1)\n",
      "Requirement already satisfied: networkx>=3.0 in /Users/taurangela/Library/Python/3.9/lib/python/site-packages (from llama-index-core<0.11.0,>=0.10.65->llama_index) (3.2.1)\n",
      "Requirement already satisfied: llama-cloud>=0.0.11 in /Users/taurangela/Library/Python/3.9/lib/python/site-packages (from llama-index-indices-managed-llama-cloud>=0.2.0->llama_index) (0.0.13)\n",
      "Requirement already satisfied: sniffio in /Users/taurangela/Library/Python/3.9/lib/python/site-packages (from httpx->llama-index-core<0.11.0,>=0.10.65->llama_index) (1.3.1)\n",
      "Requirement already satisfied: httpcore==1.* in /Users/taurangela/Library/Python/3.9/lib/python/site-packages (from httpx->llama-index-core<0.11.0,>=0.10.65->llama_index) (1.0.5)\n",
      "Requirement already satisfied: idna in /Users/taurangela/Library/Python/3.9/lib/python/site-packages (from httpx->llama-index-core<0.11.0,>=0.10.65->llama_index) (3.7)\n",
      "Requirement already satisfied: anyio in /Users/taurangela/Library/Python/3.9/lib/python/site-packages (from httpx->llama-index-core<0.11.0,>=0.10.65->llama_index) (4.4.0)\n",
      "Requirement already satisfied: certifi in /Users/taurangela/Library/Python/3.9/lib/python/site-packages (from httpx->llama-index-core<0.11.0,>=0.10.65->llama_index) (2024.7.4)\n",
      "Requirement already satisfied: h11<0.15,>=0.13 in /Users/taurangela/Library/Python/3.9/lib/python/site-packages (from httpcore==1.*->httpx->llama-index-core<0.11.0,>=0.10.65->llama_index) (0.14.0)\n",
      "Requirement already satisfied: beautifulsoup4<5.0.0,>=4.12.3 in /Users/taurangela/Library/Python/3.9/lib/python/site-packages (from llama-index-readers-file<0.2.0,>=0.1.4->llama_index) (4.12.3)\n",
      "Requirement already satisfied: striprtf<0.0.27,>=0.0.26 in /Users/taurangela/Library/Python/3.9/lib/python/site-packages (from llama-index-readers-file<0.2.0,>=0.1.4->llama_index) (0.0.26)\n",
      "Requirement already satisfied: pypdf<5.0.0,>=4.0.1 in /Users/taurangela/Library/Python/3.9/lib/python/site-packages (from llama-index-readers-file<0.2.0,>=0.1.4->llama_index) (4.3.1)\n",
      "Requirement already satisfied: soupsieve>1.2 in /Users/taurangela/Library/Python/3.9/lib/python/site-packages (from beautifulsoup4<5.0.0,>=4.12.3->llama-index-readers-file<0.2.0,>=0.1.4->llama_index) (2.6)\n",
      "Requirement already satisfied: llama-parse>=0.4.0 in /Users/taurangela/Library/Python/3.9/lib/python/site-packages (from llama-index-readers-llama-parse>=0.1.2->llama_index) (0.4.9)\n",
      "Requirement already satisfied: regex>=2021.8.3 in /Users/taurangela/Library/Python/3.9/lib/python/site-packages (from nltk!=3.9,>=3.8.1->llama-index-core<0.11.0,>=0.10.65->llama_index) (2024.7.24)\n",
      "Requirement already satisfied: joblib in /Users/taurangela/Library/Python/3.9/lib/python/site-packages (from nltk!=3.9,>=3.8.1->llama-index-core<0.11.0,>=0.10.65->llama_index) (1.4.2)\n",
      "Requirement already satisfied: click in /Users/taurangela/Library/Python/3.9/lib/python/site-packages (from nltk!=3.9,>=3.8.1->llama-index-core<0.11.0,>=0.10.65->llama_index) (8.1.7)\n",
      "Requirement already satisfied: jiter<1,>=0.4.0 in /Users/taurangela/Library/Python/3.9/lib/python/site-packages (from openai<2.0.0,>=1.40.0->langchain-openai) (0.5.0)\n",
      "Requirement already satisfied: distro<2,>=1.7.0 in /Users/taurangela/Library/Python/3.9/lib/python/site-packages (from openai<2.0.0,>=1.40.0->langchain-openai) (1.9.0)\n",
      "Requirement already satisfied: exceptiongroup>=1.0.2 in /Users/taurangela/Library/Python/3.9/lib/python/site-packages (from anyio->httpx->llama-index-core<0.11.0,>=0.10.65->llama_index) (1.2.2)\n",
      "Requirement already satisfied: pydantic-core==2.20.1 in /Users/taurangela/Library/Python/3.9/lib/python/site-packages (from pydantic<3,>=1->langchain) (2.20.1)\n",
      "Requirement already satisfied: annotated-types>=0.4.0 in /Users/taurangela/Library/Python/3.9/lib/python/site-packages (from pydantic<3,>=1->langchain) (0.7.0)\n",
      "Requirement already satisfied: charset-normalizer<4,>=2 in /Users/taurangela/Library/Python/3.9/lib/python/site-packages (from requests<3,>=2->langchain) (3.3.2)\n",
      "Requirement already satisfied: urllib3<3,>=1.21.1 in /Users/taurangela/Library/Python/3.9/lib/python/site-packages (from requests<3,>=2->langchain) (2.2.2)\n",
      "Requirement already satisfied: greenlet!=0.4.17 in /Users/taurangela/Library/Python/3.9/lib/python/site-packages (from SQLAlchemy<3,>=1.4->langchain) (3.0.3)\n",
      "Requirement already satisfied: mypy-extensions>=0.3.0 in /Users/taurangela/Library/Python/3.9/lib/python/site-packages (from typing-inspect<1,>=0.4.0->dataclasses-json<0.7,>=0.5.7->langchain-community) (1.0.0)\n",
      "Requirement already satisfied: tzdata>=2022.7 in /Users/taurangela/Library/Python/3.9/lib/python/site-packages (from pandas->llama-index-core<0.11.0,>=0.10.65->llama_index) (2024.1)\n",
      "Requirement already satisfied: python-dateutil>=2.8.2 in /Users/taurangela/Library/Python/3.9/lib/python/site-packages (from pandas->llama-index-core<0.11.0,>=0.10.65->llama_index) (2.9.0.post0)\n",
      "Requirement already satisfied: six>=1.5 in /Library/Developer/CommandLineTools/Library/Frameworks/Python3.framework/Versions/3.9/lib/python3.9/site-packages (from python-dateutil>=2.8.2->pandas->llama-index-core<0.11.0,>=0.10.65->llama_index) (1.15.0)\n",
      "\u001b[33mWARNING: You are using pip version 21.2.4; however, version 24.2 is available.\n",
      "You should consider upgrading via the '/Library/Developer/CommandLineTools/usr/bin/python3 -m pip install --upgrade pip' command.\u001b[0m\n",
      "Note: you may need to restart the kernel to use updated packages.\n"
     ]
    }
   ],
   "source": [
    "# Install necessary libraries\n",
    "%pip install langchain langchain-community langchain-openai neo4j llama_index python-dotenv"
   ]
  },
  {
   "cell_type": "code",
   "execution_count": 2,
   "metadata": {},
   "outputs": [
    {
     "name": "stdout",
     "output_type": "stream",
     "text": [
      "\u001b[33mWARNING: You are using pip version 21.2.4; however, version 24.2 is available.\n",
      "You should consider upgrading via the '/Library/Developer/CommandLineTools/usr/bin/python3 -m pip install --upgrade pip' command.\u001b[0m\n",
      "Note: you may need to restart the kernel to use updated packages.\n"
     ]
    }
   ],
   "source": [
    "%pip install -qU langchain-groq"
   ]
  },
  {
   "cell_type": "markdown",
   "metadata": {},
   "source": [
    "Step 2: Import Libraries"
   ]
  },
  {
   "cell_type": "code",
   "execution_count": 3,
   "metadata": {},
   "outputs": [
    {
     "name": "stderr",
     "output_type": "stream",
     "text": [
      "/Users/taurangela/Library/Python/3.9/lib/python/site-packages/urllib3/__init__.py:35: NotOpenSSLWarning: urllib3 v2 only supports OpenSSL 1.1.1+, currently the 'ssl' module is compiled with 'LibreSSL 2.8.3'. See: https://github.com/urllib3/urllib3/issues/3020\n",
      "  warnings.warn(\n"
     ]
    }
   ],
   "source": [
    "import os\n",
    "from dotenv import load_dotenv\n",
    "from langchain_community.graphs import Neo4jGraph\n",
    "from langchain.chains import GraphCypherQAChain\n",
    "\n",
    "# Load environment variables from .env file\n",
    "load_dotenv()\n",
    "\n",
    "# Access environment variables\n",
    "NEO4J_URI = os.getenv(\"NEO4J_URI\")\n",
    "NEO4J_USERNAME = os.getenv(\"NEO4J_USERNAME\")\n",
    "NEO4J_PASSWORD = os.getenv(\"NEO4J_PASSWORD\")\n",
    "GROQ_API_KEY = os.getenv(\"GROQ_API_KEY\")"
   ]
  },
  {
   "cell_type": "markdown",
   "metadata": {},
   "source": [
    "Step 3: Connect to Neo4j and Create a Graph Instance"
   ]
  },
  {
   "cell_type": "code",
   "execution_count": 4,
   "metadata": {},
   "outputs": [
    {
     "name": "stderr",
     "output_type": "stream",
     "text": [
      "Received notification from DBMS server: {severity: WARNING} {code: Neo.ClientNotification.Statement.FeatureDeprecationWarning} {category: DEPRECATION} {title: This feature is deprecated and will be removed in future versions.} {description: The procedure has a deprecated field. ('config' used by 'apoc.meta.graphSample' is deprecated.)} {position: line: 1, column: 1, offset: 0} for query: \"CALL apoc.meta.graphSample() YIELD nodes, relationships RETURN nodes, [rel in relationships | {name:apoc.any.property(rel, 'type'), count: apoc.any.property(rel, 'count')}] AS relationships\"\n"
     ]
    }
   ],
   "source": [
    "# Create a Neo4jGraph instance\n",
    "graph = Neo4jGraph(\n",
    "    url=NEO4J_URI,\n",
    "    username=NEO4J_USERNAME,\n",
    "    password=NEO4J_PASSWORD,\n",
    "    enhanced_schema=True,\n",
    ")"
   ]
  },
  {
   "cell_type": "markdown",
   "metadata": {},
   "source": [
    "Step 4: Seed the Database with Initial Data"
   ]
  },
  {
   "cell_type": "code",
   "execution_count": 5,
   "metadata": {},
   "outputs": [
    {
     "data": {
      "text/plain": [
       "[]"
      ]
     },
     "execution_count": 5,
     "metadata": {},
     "output_type": "execute_result"
    }
   ],
   "source": [
    "# Define and execute the Cypher query to populate the database\n",
    "seed_query = \"\"\"\n",
    "MERGE (m:Movie {name:\"Top Gun\", runtime: 120})\n",
    "WITH m\n",
    "UNWIND [\"Tom Cruise\", \"Val Kilmer\", \"Anthony Edwards\", \"Meg Ryan\"] AS actor\n",
    "MERGE (a:Actor {name:actor})\n",
    "MERGE (a)-[:ACTED_IN]->(m)\n",
    "\"\"\"\n",
    "\n",
    "graph.query(seed_query)"
   ]
  },
  {
   "cell_type": "code",
   "execution_count": 6,
   "metadata": {},
   "outputs": [
    {
     "name": "stderr",
     "output_type": "stream",
     "text": [
      "Received notification from DBMS server: {severity: WARNING} {code: Neo.ClientNotification.Statement.FeatureDeprecationWarning} {category: DEPRECATION} {title: This feature is deprecated and will be removed in future versions.} {description: The procedure has a deprecated field. ('config' used by 'apoc.meta.graphSample' is deprecated.)} {position: line: 1, column: 1, offset: 0} for query: \"CALL apoc.meta.graphSample() YIELD nodes, relationships RETURN nodes, [rel in relationships | {name:apoc.any.property(rel, 'type'), count: apoc.any.property(rel, 'count')}] AS relationships\"\n"
     ]
    },
    {
     "name": "stdout",
     "output_type": "stream",
     "text": [
      "Node properties:\n",
      "- **Movie**\n",
      "  - `name`: STRING Available options: ['Top Gun']\n",
      "  - `runtime`: INTEGER Min: 120, Max: 120\n",
      "- **Actor**\n",
      "  - `name`: STRING Available options: ['Tom Cruise', 'Val Kilmer', 'Anthony Edwards', 'Meg Ryan']\n",
      "Relationship properties:\n",
      "\n",
      "The relationships:\n",
      "(:Actor)-[:ACTED_IN]->(:Movie)\n"
     ]
    }
   ],
   "source": [
    "# Refresh and print the graph schema\n",
    "graph.refresh_schema()\n",
    "print(graph.schema)"
   ]
  },
  {
   "cell_type": "markdown",
   "metadata": {},
   "source": [
    "Step 5: Initialize the LLM and Graph Q&A Chain"
   ]
  },
  {
   "cell_type": "code",
   "execution_count": 7,
   "metadata": {},
   "outputs": [],
   "source": [
    "from langchain_core.prompts.prompt import PromptTemplate\n",
    "\n",
    "# Define a custom prompt template\n",
    "CYPHER_GENERATION_TEMPLATE = \"\"\"Task: Generate Cypher statement to query a graph database.\n",
    "Instructions:\n",
    "Use only the provided relationship types and properties in the schema.\n",
    "Do not use any other relationship types or properties that are not provided.\n",
    "Schema:\n",
    "{schema}\n",
    "Note: Do not include any explanations or apologies in your responses.\n",
    "Do not respond to any questions that might ask anything else than for you to construct a Cypher statement.\n",
    "Do not include any text except the generated Cypher statement.\n",
    "Examples: Here are a few examples of generated Cypher statements for particular questions:\n",
    "# How many people played in Top Gun?\n",
    "MATCH (m:Movie {{name:\"Top Gun\"}})<-[:ACTED_IN]-()\n",
    "RETURN count(*) AS numberOfActors\n",
    "\n",
    "The question is:\n",
    "{question}\"\"\""
   ]
  },
  {
   "cell_type": "code",
   "execution_count": 8,
   "metadata": {},
   "outputs": [],
   "source": [
    "# Initialize the prompt template\n",
    "CYPHER_GENERATION_PROMPT = PromptTemplate(\n",
    "    input_variables=[\"schema\", \"question\"], template=CYPHER_GENERATION_TEMPLATE\n",
    ")"
   ]
  },
  {
   "cell_type": "code",
   "execution_count": 12,
   "metadata": {},
   "outputs": [],
   "source": [
    "from langchain_groq import ChatGroq\n",
    "from langchain.chains import GraphCypherQAChain\n",
    "\n",
    "# Initialize the ChatGroq LLM\n",
    "llm = ChatGroq(\n",
    "    model=\"mixtral-8x7b-32768\",\n",
    "    temperature=0,\n",
    "    max_tokens=None,\n",
    "    timeout=None,\n",
    "    max_retries=2\n",
    ")\n",
    "\n",
    "# Initialize the GraphCypherQAChain\n",
    "chain = GraphCypherQAChain.from_llm(\n",
    "    graph=graph,\n",
    "    llm=llm,\n",
    "    cypher_prompt=CYPHER_GENERATION_PROMPT\n",
    ")"
   ]
  },
  {
   "cell_type": "markdown",
   "metadata": {},
   "source": [
    "Step 6: Perform a Query Using the Chain"
   ]
  },
  {
   "cell_type": "code",
   "execution_count": 13,
   "metadata": {},
   "outputs": [
    {
     "name": "stdout",
     "output_type": "stream",
     "text": [
      "Query: Who played in Top Gun?\n",
      "Result: {'query': 'Who played in Top Gun?', 'result': \"Tom Cruise, Val Kilmer, and Anthony Edwards played in Top Gun. I don't know if Meg Ryan was in the movie as well.\"}\n"
     ]
    }
   ],
   "source": [
    "# Define and execute a natural language query\n",
    "query = {\"query\": \"Who played in Top Gun?\"}\n",
    "response = chain.invoke(query)\n",
    "\n",
    "print(f\"Query: {query['query']}\")\n",
    "print(f\"Result: {response}\")"
   ]
  },
  {
   "cell_type": "markdown",
   "metadata": {},
   "source": []
  }
 ],
 "metadata": {
  "kernelspec": {
   "display_name": "env",
   "language": "python",
   "name": "python3"
  },
  "language_info": {
   "codemirror_mode": {
    "name": "ipython",
    "version": 3
   },
   "file_extension": ".py",
   "mimetype": "text/x-python",
   "name": "python",
   "nbconvert_exporter": "python",
   "pygments_lexer": "ipython3",
   "version": "3.9.6"
  }
 },
 "nbformat": 4,
 "nbformat_minor": 2
}
