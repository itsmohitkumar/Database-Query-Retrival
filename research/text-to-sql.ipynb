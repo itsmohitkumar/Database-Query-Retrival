{
 "cells": [
  {
   "cell_type": "markdown",
   "metadata": {},
   "source": [
    "Text-to-SQL Guide Using Olympic Medal Data from CSV"
   ]
  },
  {
   "cell_type": "markdown",
   "metadata": {},
   "source": [
    "Step 1: Install Required Libraries"
   ]
  },
  {
   "cell_type": "code",
   "execution_count": 1,
   "metadata": {},
   "outputs": [
    {
     "name": "stdout",
     "output_type": "stream",
     "text": [
      "Requirement already satisfied: llama-index in /Users/taurangela/Desktop/Github/Database-Query-Retrival/env/lib/python3.10/site-packages (0.10.65)\n",
      "Requirement already satisfied: llama-index-llms-groq in /Users/taurangela/Desktop/Github/Database-Query-Retrival/env/lib/python3.10/site-packages (0.1.4)\n",
      "Requirement already satisfied: groq in /Users/taurangela/Desktop/Github/Database-Query-Retrival/env/lib/python3.10/site-packages (0.9.0)\n",
      "Requirement already satisfied: llama-index-embeddings-huggingface in /Users/taurangela/Desktop/Github/Database-Query-Retrival/env/lib/python3.10/site-packages (0.2.3)\n",
      "Requirement already satisfied: sqlalchemy in /Users/taurangela/Desktop/Github/Database-Query-Retrival/env/lib/python3.10/site-packages (2.0.32)\n",
      "Requirement already satisfied: pandas in /Users/taurangela/Desktop/Github/Database-Query-Retrival/env/lib/python3.10/site-packages (2.2.2)\n",
      "Requirement already satisfied: python-dotenv in /Users/taurangela/Desktop/Github/Database-Query-Retrival/env/lib/python3.10/site-packages (1.0.1)\n",
      "Requirement already satisfied: llama-index-embeddings-openai<0.2.0,>=0.1.5 in /Users/taurangela/Desktop/Github/Database-Query-Retrival/env/lib/python3.10/site-packages (from llama-index) (0.1.11)\n",
      "Requirement already satisfied: llama-index-cli<0.2.0,>=0.1.2 in /Users/taurangela/Desktop/Github/Database-Query-Retrival/env/lib/python3.10/site-packages (from llama-index) (0.1.13)\n",
      "Requirement already satisfied: llama-index-question-gen-openai<0.2.0,>=0.1.2 in /Users/taurangela/Desktop/Github/Database-Query-Retrival/env/lib/python3.10/site-packages (from llama-index) (0.1.3)\n",
      "Requirement already satisfied: llama-index-program-openai<0.2.0,>=0.1.3 in /Users/taurangela/Desktop/Github/Database-Query-Retrival/env/lib/python3.10/site-packages (from llama-index) (0.1.7)\n",
      "Requirement already satisfied: llama-index-legacy<0.10.0,>=0.9.48 in /Users/taurangela/Desktop/Github/Database-Query-Retrival/env/lib/python3.10/site-packages (from llama-index) (0.9.48.post3)\n",
      "Requirement already satisfied: llama-index-readers-file<0.2.0,>=0.1.4 in /Users/taurangela/Desktop/Github/Database-Query-Retrival/env/lib/python3.10/site-packages (from llama-index) (0.1.33)\n",
      "Requirement already satisfied: llama-index-llms-openai<0.2.0,>=0.1.27 in /Users/taurangela/Desktop/Github/Database-Query-Retrival/env/lib/python3.10/site-packages (from llama-index) (0.1.29)\n",
      "Requirement already satisfied: llama-index-multi-modal-llms-openai<0.2.0,>=0.1.3 in /Users/taurangela/Desktop/Github/Database-Query-Retrival/env/lib/python3.10/site-packages (from llama-index) (0.1.9)\n",
      "Requirement already satisfied: llama-index-readers-llama-parse>=0.1.2 in /Users/taurangela/Desktop/Github/Database-Query-Retrival/env/lib/python3.10/site-packages (from llama-index) (0.1.6)\n",
      "Requirement already satisfied: llama-index-core<0.11.0,>=0.10.65 in /Users/taurangela/Desktop/Github/Database-Query-Retrival/env/lib/python3.10/site-packages (from llama-index) (0.10.67)\n",
      "Requirement already satisfied: llama-index-agent-openai<0.3.0,>=0.1.4 in /Users/taurangela/Desktop/Github/Database-Query-Retrival/env/lib/python3.10/site-packages (from llama-index) (0.2.9)\n",
      "Requirement already satisfied: llama-index-indices-managed-llama-cloud>=0.2.0 in /Users/taurangela/Desktop/Github/Database-Query-Retrival/env/lib/python3.10/site-packages (from llama-index) (0.2.7)\n",
      "Requirement already satisfied: llama-index-llms-openai-like<0.2.0,>=0.1.3 in /Users/taurangela/Desktop/Github/Database-Query-Retrival/env/lib/python3.10/site-packages (from llama-index-llms-groq) (0.1.3)\n",
      "Requirement already satisfied: anyio<5,>=3.5.0 in /Users/taurangela/Desktop/Github/Database-Query-Retrival/env/lib/python3.10/site-packages (from groq) (4.4.0)\n",
      "Requirement already satisfied: httpx<1,>=0.23.0 in /Users/taurangela/Desktop/Github/Database-Query-Retrival/env/lib/python3.10/site-packages (from groq) (0.27.0)\n",
      "Requirement already satisfied: distro<2,>=1.7.0 in /Users/taurangela/Desktop/Github/Database-Query-Retrival/env/lib/python3.10/site-packages (from groq) (1.9.0)\n",
      "Requirement already satisfied: pydantic<3,>=1.9.0 in /Users/taurangela/Desktop/Github/Database-Query-Retrival/env/lib/python3.10/site-packages (from groq) (2.8.2)\n",
      "Requirement already satisfied: typing-extensions<5,>=4.7 in /Users/taurangela/Desktop/Github/Database-Query-Retrival/env/lib/python3.10/site-packages (from groq) (4.12.2)\n",
      "Requirement already satisfied: sniffio in /Users/taurangela/Desktop/Github/Database-Query-Retrival/env/lib/python3.10/site-packages (from groq) (1.3.1)\n",
      "Requirement already satisfied: huggingface-hub[inference]>=0.19.0 in /Users/taurangela/Desktop/Github/Database-Query-Retrival/env/lib/python3.10/site-packages (from llama-index-embeddings-huggingface) (0.24.6)\n",
      "Requirement already satisfied: sentence-transformers>=2.6.1 in /Users/taurangela/Desktop/Github/Database-Query-Retrival/env/lib/python3.10/site-packages (from llama-index-embeddings-huggingface) (3.0.1)\n",
      "Requirement already satisfied: greenlet!=0.4.17 in /Users/taurangela/Desktop/Github/Database-Query-Retrival/env/lib/python3.10/site-packages (from sqlalchemy) (3.0.3)\n",
      "Requirement already satisfied: numpy>=1.22.4 in /Users/taurangela/Desktop/Github/Database-Query-Retrival/env/lib/python3.10/site-packages (from pandas) (1.26.4)\n",
      "Requirement already satisfied: python-dateutil>=2.8.2 in /Users/taurangela/Desktop/Github/Database-Query-Retrival/env/lib/python3.10/site-packages (from pandas) (2.9.0.post0)\n",
      "Requirement already satisfied: pytz>=2020.1 in /Users/taurangela/Desktop/Github/Database-Query-Retrival/env/lib/python3.10/site-packages (from pandas) (2024.1)\n",
      "Requirement already satisfied: tzdata>=2022.7 in /Users/taurangela/Desktop/Github/Database-Query-Retrival/env/lib/python3.10/site-packages (from pandas) (2024.1)\n",
      "Requirement already satisfied: idna>=2.8 in /Users/taurangela/Desktop/Github/Database-Query-Retrival/env/lib/python3.10/site-packages (from anyio<5,>=3.5.0->groq) (3.7)\n",
      "Requirement already satisfied: exceptiongroup>=1.0.2 in /Users/taurangela/Desktop/Github/Database-Query-Retrival/env/lib/python3.10/site-packages (from anyio<5,>=3.5.0->groq) (1.2.2)\n",
      "Requirement already satisfied: certifi in /Users/taurangela/Desktop/Github/Database-Query-Retrival/env/lib/python3.10/site-packages (from httpx<1,>=0.23.0->groq) (2024.7.4)\n",
      "Requirement already satisfied: httpcore==1.* in /Users/taurangela/Desktop/Github/Database-Query-Retrival/env/lib/python3.10/site-packages (from httpx<1,>=0.23.0->groq) (1.0.5)\n",
      "Requirement already satisfied: h11<0.15,>=0.13 in /Users/taurangela/Desktop/Github/Database-Query-Retrival/env/lib/python3.10/site-packages (from httpcore==1.*->httpx<1,>=0.23.0->groq) (0.14.0)\n",
      "Requirement already satisfied: filelock in /Users/taurangela/Desktop/Github/Database-Query-Retrival/env/lib/python3.10/site-packages (from huggingface-hub[inference]>=0.19.0->llama-index-embeddings-huggingface) (3.15.4)\n",
      "Requirement already satisfied: tqdm>=4.42.1 in /Users/taurangela/Desktop/Github/Database-Query-Retrival/env/lib/python3.10/site-packages (from huggingface-hub[inference]>=0.19.0->llama-index-embeddings-huggingface) (4.66.5)\n",
      "Requirement already satisfied: requests in /Users/taurangela/Desktop/Github/Database-Query-Retrival/env/lib/python3.10/site-packages (from huggingface-hub[inference]>=0.19.0->llama-index-embeddings-huggingface) (2.32.3)\n",
      "Requirement already satisfied: fsspec>=2023.5.0 in /Users/taurangela/Desktop/Github/Database-Query-Retrival/env/lib/python3.10/site-packages (from huggingface-hub[inference]>=0.19.0->llama-index-embeddings-huggingface) (2024.6.1)\n",
      "Requirement already satisfied: packaging>=20.9 in /Users/taurangela/Desktop/Github/Database-Query-Retrival/env/lib/python3.10/site-packages (from huggingface-hub[inference]>=0.19.0->llama-index-embeddings-huggingface) (24.1)\n",
      "Requirement already satisfied: pyyaml>=5.1 in /Users/taurangela/Desktop/Github/Database-Query-Retrival/env/lib/python3.10/site-packages (from huggingface-hub[inference]>=0.19.0->llama-index-embeddings-huggingface) (6.0.2)\n",
      "Requirement already satisfied: minijinja>=1.0 in /Users/taurangela/Desktop/Github/Database-Query-Retrival/env/lib/python3.10/site-packages (from huggingface-hub[inference]>=0.19.0->llama-index-embeddings-huggingface) (2.0.1)\n",
      "Requirement already satisfied: aiohttp in /Users/taurangela/Desktop/Github/Database-Query-Retrival/env/lib/python3.10/site-packages (from huggingface-hub[inference]>=0.19.0->llama-index-embeddings-huggingface) (3.10.4)\n",
      "Requirement already satisfied: openai>=1.14.0 in /Users/taurangela/Desktop/Github/Database-Query-Retrival/env/lib/python3.10/site-packages (from llama-index-agent-openai<0.3.0,>=0.1.4->llama-index) (1.41.0)\n",
      "Requirement already satisfied: tiktoken>=0.3.3 in /Users/taurangela/Desktop/Github/Database-Query-Retrival/env/lib/python3.10/site-packages (from llama-index-core<0.11.0,>=0.10.65->llama-index) (0.7.0)\n",
      "Requirement already satisfied: wrapt in /Users/taurangela/Desktop/Github/Database-Query-Retrival/env/lib/python3.10/site-packages (from llama-index-core<0.11.0,>=0.10.65->llama-index) (1.16.0)\n",
      "Requirement already satisfied: dataclasses-json in /Users/taurangela/Desktop/Github/Database-Query-Retrival/env/lib/python3.10/site-packages (from llama-index-core<0.11.0,>=0.10.65->llama-index) (0.6.7)\n",
      "Requirement already satisfied: nest-asyncio<2.0.0,>=1.5.8 in /Users/taurangela/Desktop/Github/Database-Query-Retrival/env/lib/python3.10/site-packages (from llama-index-core<0.11.0,>=0.10.65->llama-index) (1.6.0)\n",
      "Requirement already satisfied: networkx>=3.0 in /Users/taurangela/Desktop/Github/Database-Query-Retrival/env/lib/python3.10/site-packages (from llama-index-core<0.11.0,>=0.10.65->llama-index) (3.3)\n",
      "Requirement already satisfied: pillow>=9.0.0 in /Users/taurangela/Desktop/Github/Database-Query-Retrival/env/lib/python3.10/site-packages (from llama-index-core<0.11.0,>=0.10.65->llama-index) (10.4.0)\n",
      "Requirement already satisfied: deprecated>=1.2.9.3 in /Users/taurangela/Desktop/Github/Database-Query-Retrival/env/lib/python3.10/site-packages (from llama-index-core<0.11.0,>=0.10.65->llama-index) (1.2.14)\n",
      "Requirement already satisfied: typing-inspect>=0.8.0 in /Users/taurangela/Desktop/Github/Database-Query-Retrival/env/lib/python3.10/site-packages (from llama-index-core<0.11.0,>=0.10.65->llama-index) (0.9.0)\n",
      "Requirement already satisfied: tenacity!=8.4.0,<9.0.0,>=8.2.0 in /Users/taurangela/Desktop/Github/Database-Query-Retrival/env/lib/python3.10/site-packages (from llama-index-core<0.11.0,>=0.10.65->llama-index) (8.5.0)\n",
      "Requirement already satisfied: dirtyjson<2.0.0,>=1.0.8 in /Users/taurangela/Desktop/Github/Database-Query-Retrival/env/lib/python3.10/site-packages (from llama-index-core<0.11.0,>=0.10.65->llama-index) (1.0.8)\n",
      "Requirement already satisfied: nltk!=3.9,>=3.8.1 in /Users/taurangela/Desktop/Github/Database-Query-Retrival/env/lib/python3.10/site-packages (from llama-index-core<0.11.0,>=0.10.65->llama-index) (3.9.1)\n",
      "Requirement already satisfied: llama-cloud>=0.0.11 in /Users/taurangela/Desktop/Github/Database-Query-Retrival/env/lib/python3.10/site-packages (from llama-index-indices-managed-llama-cloud>=0.2.0->llama-index) (0.0.13)\n",
      "Requirement already satisfied: transformers<5.0.0,>=4.37.0 in /Users/taurangela/Desktop/Github/Database-Query-Retrival/env/lib/python3.10/site-packages (from llama-index-llms-openai-like<0.2.0,>=0.1.3->llama-index-llms-groq) (4.44.0)\n",
      "Requirement already satisfied: pypdf<5.0.0,>=4.0.1 in /Users/taurangela/Desktop/Github/Database-Query-Retrival/env/lib/python3.10/site-packages (from llama-index-readers-file<0.2.0,>=0.1.4->llama-index) (4.3.1)\n",
      "Requirement already satisfied: striprtf<0.0.27,>=0.0.26 in /Users/taurangela/Desktop/Github/Database-Query-Retrival/env/lib/python3.10/site-packages (from llama-index-readers-file<0.2.0,>=0.1.4->llama-index) (0.0.26)\n",
      "Requirement already satisfied: beautifulsoup4<5.0.0,>=4.12.3 in /Users/taurangela/Desktop/Github/Database-Query-Retrival/env/lib/python3.10/site-packages (from llama-index-readers-file<0.2.0,>=0.1.4->llama-index) (4.12.3)\n",
      "Requirement already satisfied: llama-parse>=0.4.0 in /Users/taurangela/Desktop/Github/Database-Query-Retrival/env/lib/python3.10/site-packages (from llama-index-readers-llama-parse>=0.1.2->llama-index) (0.4.9)\n",
      "Requirement already satisfied: annotated-types>=0.4.0 in /Users/taurangela/Desktop/Github/Database-Query-Retrival/env/lib/python3.10/site-packages (from pydantic<3,>=1.9.0->groq) (0.7.0)\n",
      "Requirement already satisfied: pydantic-core==2.20.1 in /Users/taurangela/Desktop/Github/Database-Query-Retrival/env/lib/python3.10/site-packages (from pydantic<3,>=1.9.0->groq) (2.20.1)\n",
      "Requirement already satisfied: six>=1.5 in /Users/taurangela/Desktop/Github/Database-Query-Retrival/env/lib/python3.10/site-packages (from python-dateutil>=2.8.2->pandas) (1.16.0)\n",
      "Requirement already satisfied: scikit-learn in /Users/taurangela/Desktop/Github/Database-Query-Retrival/env/lib/python3.10/site-packages (from sentence-transformers>=2.6.1->llama-index-embeddings-huggingface) (1.5.1)\n",
      "Requirement already satisfied: scipy in /Users/taurangela/Desktop/Github/Database-Query-Retrival/env/lib/python3.10/site-packages (from sentence-transformers>=2.6.1->llama-index-embeddings-huggingface) (1.14.0)\n",
      "Requirement already satisfied: torch>=1.11.0 in /Users/taurangela/Desktop/Github/Database-Query-Retrival/env/lib/python3.10/site-packages (from sentence-transformers>=2.6.1->llama-index-embeddings-huggingface) (2.2.2)\n",
      "Requirement already satisfied: yarl<2.0,>=1.0 in /Users/taurangela/Desktop/Github/Database-Query-Retrival/env/lib/python3.10/site-packages (from aiohttp->huggingface-hub[inference]>=0.19.0->llama-index-embeddings-huggingface) (1.9.4)\n",
      "Requirement already satisfied: multidict<7.0,>=4.5 in /Users/taurangela/Desktop/Github/Database-Query-Retrival/env/lib/python3.10/site-packages (from aiohttp->huggingface-hub[inference]>=0.19.0->llama-index-embeddings-huggingface) (6.0.5)\n",
      "Requirement already satisfied: async-timeout<5.0,>=4.0 in /Users/taurangela/Desktop/Github/Database-Query-Retrival/env/lib/python3.10/site-packages (from aiohttp->huggingface-hub[inference]>=0.19.0->llama-index-embeddings-huggingface) (4.0.3)\n",
      "Requirement already satisfied: attrs>=17.3.0 in /Users/taurangela/Desktop/Github/Database-Query-Retrival/env/lib/python3.10/site-packages (from aiohttp->huggingface-hub[inference]>=0.19.0->llama-index-embeddings-huggingface) (24.2.0)\n",
      "Requirement already satisfied: frozenlist>=1.1.1 in /Users/taurangela/Desktop/Github/Database-Query-Retrival/env/lib/python3.10/site-packages (from aiohttp->huggingface-hub[inference]>=0.19.0->llama-index-embeddings-huggingface) (1.4.1)\n",
      "Requirement already satisfied: aiosignal>=1.1.2 in /Users/taurangela/Desktop/Github/Database-Query-Retrival/env/lib/python3.10/site-packages (from aiohttp->huggingface-hub[inference]>=0.19.0->llama-index-embeddings-huggingface) (1.3.1)\n",
      "Requirement already satisfied: aiohappyeyeballs>=2.3.0 in /Users/taurangela/Desktop/Github/Database-Query-Retrival/env/lib/python3.10/site-packages (from aiohttp->huggingface-hub[inference]>=0.19.0->llama-index-embeddings-huggingface) (2.3.7)\n",
      "Requirement already satisfied: soupsieve>1.2 in /Users/taurangela/Desktop/Github/Database-Query-Retrival/env/lib/python3.10/site-packages (from beautifulsoup4<5.0.0,>=4.12.3->llama-index-readers-file<0.2.0,>=0.1.4->llama-index) (2.6)\n",
      "Requirement already satisfied: regex>=2021.8.3 in /Users/taurangela/Desktop/Github/Database-Query-Retrival/env/lib/python3.10/site-packages (from nltk!=3.9,>=3.8.1->llama-index-core<0.11.0,>=0.10.65->llama-index) (2024.7.24)\n",
      "Requirement already satisfied: click in /Users/taurangela/Desktop/Github/Database-Query-Retrival/env/lib/python3.10/site-packages (from nltk!=3.9,>=3.8.1->llama-index-core<0.11.0,>=0.10.65->llama-index) (8.1.7)\n",
      "Requirement already satisfied: joblib in /Users/taurangela/Desktop/Github/Database-Query-Retrival/env/lib/python3.10/site-packages (from nltk!=3.9,>=3.8.1->llama-index-core<0.11.0,>=0.10.65->llama-index) (1.4.2)\n",
      "Requirement already satisfied: jiter<1,>=0.4.0 in /Users/taurangela/Desktop/Github/Database-Query-Retrival/env/lib/python3.10/site-packages (from openai>=1.14.0->llama-index-agent-openai<0.3.0,>=0.1.4->llama-index) (0.5.0)\n",
      "Requirement already satisfied: charset-normalizer<4,>=2 in /Users/taurangela/Desktop/Github/Database-Query-Retrival/env/lib/python3.10/site-packages (from requests->huggingface-hub[inference]>=0.19.0->llama-index-embeddings-huggingface) (3.3.2)\n",
      "Requirement already satisfied: urllib3<3,>=1.21.1 in /Users/taurangela/Desktop/Github/Database-Query-Retrival/env/lib/python3.10/site-packages (from requests->huggingface-hub[inference]>=0.19.0->llama-index-embeddings-huggingface) (2.2.2)\n",
      "Requirement already satisfied: jinja2 in /Users/taurangela/Desktop/Github/Database-Query-Retrival/env/lib/python3.10/site-packages (from torch>=1.11.0->sentence-transformers>=2.6.1->llama-index-embeddings-huggingface) (3.1.4)\n",
      "Requirement already satisfied: sympy in /Users/taurangela/Desktop/Github/Database-Query-Retrival/env/lib/python3.10/site-packages (from torch>=1.11.0->sentence-transformers>=2.6.1->llama-index-embeddings-huggingface) (1.13.2)\n",
      "Requirement already satisfied: tokenizers<0.20,>=0.19 in /Users/taurangela/Desktop/Github/Database-Query-Retrival/env/lib/python3.10/site-packages (from transformers<5.0.0,>=4.37.0->llama-index-llms-openai-like<0.2.0,>=0.1.3->llama-index-llms-groq) (0.19.1)\n",
      "Requirement already satisfied: safetensors>=0.4.1 in /Users/taurangela/Desktop/Github/Database-Query-Retrival/env/lib/python3.10/site-packages (from transformers<5.0.0,>=4.37.0->llama-index-llms-openai-like<0.2.0,>=0.1.3->llama-index-llms-groq) (0.4.4)\n",
      "Requirement already satisfied: mypy-extensions>=0.3.0 in /Users/taurangela/Desktop/Github/Database-Query-Retrival/env/lib/python3.10/site-packages (from typing-inspect>=0.8.0->llama-index-core<0.11.0,>=0.10.65->llama-index) (1.0.0)\n",
      "Requirement already satisfied: marshmallow<4.0.0,>=3.18.0 in /Users/taurangela/Desktop/Github/Database-Query-Retrival/env/lib/python3.10/site-packages (from dataclasses-json->llama-index-core<0.11.0,>=0.10.65->llama-index) (3.21.3)\n",
      "Requirement already satisfied: threadpoolctl>=3.1.0 in /Users/taurangela/Desktop/Github/Database-Query-Retrival/env/lib/python3.10/site-packages (from scikit-learn->sentence-transformers>=2.6.1->llama-index-embeddings-huggingface) (3.5.0)\n",
      "Requirement already satisfied: MarkupSafe>=2.0 in /Users/taurangela/Desktop/Github/Database-Query-Retrival/env/lib/python3.10/site-packages (from jinja2->torch>=1.11.0->sentence-transformers>=2.6.1->llama-index-embeddings-huggingface) (2.1.5)\n",
      "Requirement already satisfied: mpmath<1.4,>=1.1.0 in /Users/taurangela/Desktop/Github/Database-Query-Retrival/env/lib/python3.10/site-packages (from sympy->torch>=1.11.0->sentence-transformers>=2.6.1->llama-index-embeddings-huggingface) (1.3.0)\n",
      "\u001b[33mWARNING: You are using pip version 22.0.4; however, version 24.2 is available.\n",
      "You should consider upgrading via the '/Users/taurangela/Desktop/Github/Database-Query-Retrival/env/bin/python -m pip install --upgrade pip' command.\u001b[0m\u001b[33m\n",
      "\u001b[0mNote: you may need to restart the kernel to use updated packages.\n"
     ]
    }
   ],
   "source": [
    "# Install necessary libraries\n",
    "%pip install llama-index llama-index-llms-groq groq llama-index-embeddings-huggingface sqlalchemy pandas python-dotenv"
   ]
  },
  {
   "cell_type": "markdown",
   "metadata": {},
   "source": [
    "Step 2: Import Libraries"
   ]
  },
  {
   "cell_type": "code",
   "execution_count": 2,
   "metadata": {},
   "outputs": [
    {
     "name": "stderr",
     "output_type": "stream",
     "text": [
      "/Users/taurangela/Desktop/Github/Database-Query-Retrival/env/lib/python3.10/site-packages/tqdm/auto.py:21: TqdmWarning: IProgress not found. Please update jupyter and ipywidgets. See https://ipywidgets.readthedocs.io/en/stable/user_install.html\n",
      "  from .autonotebook import tqdm as notebook_tqdm\n"
     ]
    }
   ],
   "source": [
    "import os\n",
    "import pandas as pd\n",
    "from sqlalchemy import (\n",
    "    create_engine,\n",
    "    MetaData,\n",
    "    Table,\n",
    "    Column,\n",
    "    String,\n",
    "    Integer,\n",
    "    text\n",
    ")\n",
    "\n",
    "from dotenv import load_dotenv\n",
    "from llama_index.core import SQLDatabase\n",
    "from llama_index.core.query_engine import NLSQLTableQueryEngine\n",
    "from llama_index.embeddings.huggingface import HuggingFaceEmbedding\n",
    "from llama_index.llms.groq import Groq\n",
    "\n",
    "import warnings\n",
    "warnings.filterwarnings('ignore')"
   ]
  },
  {
   "cell_type": "markdown",
   "metadata": {},
   "source": [
    "Step 3: Load Data from CSV"
   ]
  },
  {
   "cell_type": "code",
   "execution_count": 3,
   "metadata": {},
   "outputs": [
    {
     "data": {
      "text/html": [
       "<div>\n",
       "<style scoped>\n",
       "    .dataframe tbody tr th:only-of-type {\n",
       "        vertical-align: middle;\n",
       "    }\n",
       "\n",
       "    .dataframe tbody tr th {\n",
       "        vertical-align: top;\n",
       "    }\n",
       "\n",
       "    .dataframe thead th {\n",
       "        text-align: right;\n",
       "    }\n",
       "</style>\n",
       "<table border=\"1\" class=\"dataframe\">\n",
       "  <thead>\n",
       "    <tr style=\"text-align: right;\">\n",
       "      <th></th>\n",
       "      <th>Rank</th>\n",
       "      <th>Country</th>\n",
       "      <th>Country Code</th>\n",
       "      <th>Gold</th>\n",
       "      <th>Silver</th>\n",
       "      <th>Bronze</th>\n",
       "      <th>Total</th>\n",
       "    </tr>\n",
       "  </thead>\n",
       "  <tbody>\n",
       "    <tr>\n",
       "      <th>0</th>\n",
       "      <td>1</td>\n",
       "      <td>United States</td>\n",
       "      <td>US</td>\n",
       "      <td>40</td>\n",
       "      <td>44</td>\n",
       "      <td>42</td>\n",
       "      <td>126</td>\n",
       "    </tr>\n",
       "    <tr>\n",
       "      <th>1</th>\n",
       "      <td>2</td>\n",
       "      <td>China</td>\n",
       "      <td>CHN</td>\n",
       "      <td>40</td>\n",
       "      <td>27</td>\n",
       "      <td>24</td>\n",
       "      <td>91</td>\n",
       "    </tr>\n",
       "    <tr>\n",
       "      <th>2</th>\n",
       "      <td>3</td>\n",
       "      <td>Japan</td>\n",
       "      <td>JPN</td>\n",
       "      <td>20</td>\n",
       "      <td>12</td>\n",
       "      <td>13</td>\n",
       "      <td>45</td>\n",
       "    </tr>\n",
       "    <tr>\n",
       "      <th>3</th>\n",
       "      <td>4</td>\n",
       "      <td>Australia</td>\n",
       "      <td>AUS</td>\n",
       "      <td>18</td>\n",
       "      <td>19</td>\n",
       "      <td>16</td>\n",
       "      <td>53</td>\n",
       "    </tr>\n",
       "    <tr>\n",
       "      <th>4</th>\n",
       "      <td>5</td>\n",
       "      <td>France</td>\n",
       "      <td>FRA</td>\n",
       "      <td>16</td>\n",
       "      <td>26</td>\n",
       "      <td>22</td>\n",
       "      <td>64</td>\n",
       "    </tr>\n",
       "  </tbody>\n",
       "</table>\n",
       "</div>"
      ],
      "text/plain": [
       "   Rank        Country Country Code  Gold  Silver  Bronze  Total\n",
       "0     1  United States           US    40      44      42    126\n",
       "1     2          China          CHN    40      27      24     91\n",
       "2     3          Japan          JPN    20      12      13     45\n",
       "3     4      Australia          AUS    18      19      16     53\n",
       "4     5         France          FRA    16      26      22     64"
      ]
     },
     "execution_count": 3,
     "metadata": {},
     "output_type": "execute_result"
    }
   ],
   "source": [
    "# Load the CSV data into a DataFrame\n",
    "csv_file_path = \"/Users/taurangela/Desktop/Github/Database-Query-Retrival/data/olympics2024.csv\"  # Replace with your CSV file path\n",
    "df = pd.read_csv(csv_file_path)\n",
    "df.head()"
   ]
  },
  {
   "cell_type": "markdown",
   "metadata": {},
   "source": [
    "Step 4: Create Database Schema"
   ]
  },
  {
   "cell_type": "code",
   "execution_count": 4,
   "metadata": {},
   "outputs": [],
   "source": [
    "# Create in-memory SQLite database\n",
    "engine = create_engine(\"sqlite:///:memory:\")\n",
    "metadata_obj = MetaData()\n",
    "\n",
    "# Define the Olympic medals table with correct column names\n",
    "table_name = \"olympic_medals\"\n",
    "olympic_medals_table = Table(\n",
    "    table_name,\n",
    "    metadata_obj,\n",
    "    Column(\"Rank\", Integer),\n",
    "    Column(\"Country\", String(16)),\n",
    "    Column(\"Country Code\", String(3)),\n",
    "    Column(\"Gold\", Integer),\n",
    "    Column(\"Silver\", Integer),\n",
    "    Column(\"Bronze\", Integer),\n",
    "    Column(\"Total\", Integer),\n",
    ")"
   ]
  },
  {
   "cell_type": "code",
   "execution_count": 5,
   "metadata": {},
   "outputs": [],
   "source": [
    "\n",
    "\n",
    "# Drop the table if it exists\n",
    "with engine.connect() as connection:\n",
    "    connection.execute(text(f\"DROP TABLE IF EXISTS {table_name}\"))\n",
    "\n",
    "# Create the table in the database\n",
    "metadata_obj.create_all(engine)"
   ]
  },
  {
   "cell_type": "markdown",
   "metadata": {},
   "source": [
    "Step 5: Insert Data into the Table"
   ]
  },
  {
   "cell_type": "code",
   "execution_count": 6,
   "metadata": {},
   "outputs": [
    {
     "data": {
      "text/plain": [
       "91"
      ]
     },
     "execution_count": 6,
     "metadata": {},
     "output_type": "execute_result"
    }
   ],
   "source": [
    "# Insert the data from the DataFrame into the SQL table\n",
    "df.to_sql(table_name, con=engine, if_exists='append', index=False)"
   ]
  },
  {
   "cell_type": "code",
   "execution_count": 7,
   "metadata": {},
   "outputs": [
    {
     "name": "stdout",
     "output_type": "stream",
     "text": [
      "Executed Query: SELECT * FROM olympic_medals\n",
      "(1, 'United States', 'US', 40, 44, 42, 126)\n",
      "(2, 'China', 'CHN', 40, 27, 24, 91)\n",
      "(3, 'Japan', 'JPN', 20, 12, 13, 45)\n",
      "(4, 'Australia', 'AUS', 18, 19, 16, 53)\n",
      "(5, 'France', 'FRA', 16, 26, 22, 64)\n",
      "(6, 'Netherlands', 'NED', 15, 7, 12, 34)\n",
      "(7, 'Great Britain', 'GBG', 14, 22, 29, 65)\n",
      "(8, 'South Korea', 'KOR', 13, 9, 10, 32)\n",
      "(9, 'Italy', 'ITA', 12, 13, 15, 40)\n",
      "(10, 'Germany', 'GER', 12, 13, 8, 33)\n",
      "(11, 'New Zealand', 'NZ', 10, 7, 3, 20)\n",
      "(12, 'Canada', 'CAN', 9, 7, 11, 27)\n",
      "(13, 'Uzbekistan', 'UZB', 8, 2, 3, 13)\n",
      "(14, 'Hungary', 'HUN', 6, 7, 6, 19)\n",
      "(15, 'Spain', 'SPA', 5, 4, 9, 18)\n",
      "(16, 'Sweden', 'SWE', 4, 4, 3, 11)\n",
      "(17, 'Kenya', 'KEN', 4, 2, 5, 11)\n",
      "(18, 'Norway', 'NOR', 4, 1, 3, 8)\n",
      "(19, 'Ireland', 'IRE', 4, 0, 3, 7)\n",
      "(20, 'Brazil', 'BRZ', 3, 7, 10, 20)\n",
      "(21, 'Iran', 'IRN', 3, 6, 3, 12)\n",
      "(22, 'Ukraine', 'UKR', 3, 5, 4, 12)\n",
      "(23, 'Romania', 'ROM', 3, 4, 2, 9)\n",
      "(24, 'Georgia', 'GEO', 3, 3, 1, 7)\n",
      "(25, 'Belgium', 'BEL', 3, 1, 6, 10)\n",
      "(26, 'Bulgaria', 'BUL', 3, 1, 3, 7)\n",
      "(27, 'Serbia', 'SER', 3, 1, 1, 5)\n",
      "(28, 'Czech Republic', 'CZE', 3, 0, 2, 5)\n",
      "(29, 'Denmark', 'DEN', 2, 2, 5, 9)\n",
      "(30, 'Azerbaijan', 'AZE', 2, 2, 3, 7)\n",
      "(30, 'Croatia', 'CRO', 2, 2, 3, 7)\n",
      "(32, 'Cuba', 'CUB', 2, 1, 6, 9)\n",
      "(33, 'Bahrain', 'BHR', 2, 1, 1, 4)\n",
      "(34, 'Slovenia', 'SLO', 2, 1, 0, 3)\n",
      "(35, 'Chinese Taipei', 'TPE', 2, 0, 5, 7)\n",
      "(36, 'Austria', 'AUT', 2, 0, 3, 5)\n",
      "(37, 'Hong Kong', 'HK', 2, 0, 2, 4)\n",
      "(37, 'Philippines', 'PHI', 2, 0, 2, 4)\n",
      "(39, 'Algeria', 'ALG', 2, 0, 1, 3)\n",
      "(39, 'Indonesia', 'IDN', 2, 0, 1, 3)\n",
      "(41, 'Israel', 'ISR', 1, 5, 1, 7)\n",
      "(42, 'Poland', 'POL', 1, 4, 5, 10)\n",
      "(43, 'Kazakhstan', 'KAZ', 1, 3, 3, 7)\n",
      "(44, 'Jamaica', 'JAM', 1, 3, 2, 6)\n",
      "(44, 'South Africa', 'SA', 1, 3, 2, 6)\n",
      "(44, 'Thailand', 'THA', 1, 3, 2, 6)\n",
      "(47, 'Ethiopia', 'ETH', 1, 3, 0, 4)\n",
      "(48, 'Switzerland', 'SWI', 1, 2, 5, 8)\n",
      "(49, 'Ecuador', 'ECU', 1, 2, 2, 5)\n",
      "(50, 'Portugal', 'POR', 1, 2, 1, 4)\n",
      "(51, 'Greece', 'GRE', 1, 1, 6, 8)\n",
      "(52, 'Argentina', 'ARG', 1, 1, 1, 3)\n",
      "(52, 'Egypt', 'EGY', 1, 1, 1, 3)\n",
      "(52, 'Tunisia', 'TUN', 1, 1, 1, 3)\n",
      "(55, 'Botswana', 'BOT', 1, 1, 0, 2)\n",
      "(55, 'Chile', 'CHI', 1, 1, 0, 2)\n",
      "(55, 'St Lucia', 'LCA', 1, 1, 0, 2)\n",
      "(55, 'Uganda', 'UGA', 1, 1, 0, 2)\n",
      "(59, 'Dominican Republic', 'DOM', 1, 0, 2, 3)\n",
      "(60, 'Guatemala', 'GUA', 1, 0, 1, 2)\n",
      "(60, 'Morocco', 'MOR', 1, 0, 1, 2)\n",
      "(62, 'Dominica', 'DMA', 1, 0, 0, 1)\n",
      "(62, 'Pakistan', 'PKN', 1, 0, 0, 1)\n",
      "(64, 'Turkey', 'TUR', 0, 3, 5, 8)\n",
      "(65, 'Mexico', 'MEX', 0, 3, 2, 5)\n",
      "(66, 'Armenia', 'ARM', 0, 3, 1, 4)\n",
      "(66, 'Colombia', 'COL', 0, 3, 1, 4)\n",
      "(68, 'North Korea', 'PRK', 0, 2, 4, 6)\n",
      "(68, 'Kyrgyzstan', 'KGZ', 0, 2, 4, 6)\n",
      "(70, 'Lithuania', 'LTU', 0, 2, 2, 4)\n",
      "(71, 'India', 'IND', 0, 1, 5, 6)\n",
      "(72, 'Moldova', 'MDA', 0, 1, 3, 4)\n",
      "(73, 'Kosovo', 'KOS', 0, 1, 1, 2)\n",
      "(74, 'Cyprus', 'CYP', 0, 1, 0, 1)\n",
      "(74, 'Fiji', 'FIJ', 0, 1, 0, 1)\n",
      "(74, 'Jordan', 'JOR', 0, 1, 0, 1)\n",
      "(74, 'Mongolia', 'MGL', 0, 1, 0, 1)\n",
      "(74, 'Panama', 'PAN', 0, 1, 0, 1)\n",
      "(79, 'Tajikistan', 'TJK', 0, 0, 3, 3)\n",
      "(80, 'Albania', 'ALB', 0, 0, 2, 2)\n",
      "(80, 'Grenada', 'GRN', 0, 0, 2, 2)\n",
      "(80, 'Malaysia', 'MAS', 0, 0, 2, 2)\n",
      "(80, 'Puerto Rico', 'PUR', 0, 0, 2, 2)\n",
      "(84, 'Cape Verde', 'CPV', 0, 0, 1, 1)\n",
      "(84, 'Ivory Coast', 'CIV', 0, 0, 1, 1)\n",
      "(84, 'Refugee Olympic Team', 'EOR', 0, 0, 1, 1)\n",
      "(84, 'Peru', 'PER', 0, 0, 1, 1)\n",
      "(84, 'Qatar', 'QAT', 0, 0, 1, 1)\n",
      "(84, 'Singapore', 'SIN', 0, 0, 1, 1)\n",
      "(84, 'Slovakia', 'SVK', 0, 0, 1, 1)\n",
      "(84, 'Zambia', 'ZAM', 0, 0, 1, 1)\n"
     ]
    }
   ],
   "source": [
    "# Verify the insertion by querying the table\n",
    "query = text(f\"SELECT * FROM {table_name}\")\n",
    "with engine.connect() as connection:\n",
    "    results = connection.execute(query).fetchall()\n",
    "    print(f\"Executed Query: {query}\")\n",
    "    for result in results:\n",
    "        print(result)"
   ]
  },
  {
   "cell_type": "markdown",
   "metadata": {},
   "source": [
    "Step 6: Query the Table Using LLM"
   ]
  },
  {
   "cell_type": "code",
   "execution_count": 8,
   "metadata": {},
   "outputs": [],
   "source": [
    "# Load environment variables from .env file\n",
    "load_dotenv()\n",
    "\n",
    "# Get the Groq API key from environment variables\n",
    "GROQ_API_KEY = os.getenv('GROQ_API_KEY')\n",
    "\n",
    "# Ensure the API key is loaded correctly\n",
    "#print(f\"Loaded API Key: {GROQ_API_KEY}\")\n"
   ]
  },
  {
   "cell_type": "code",
   "execution_count": 9,
   "metadata": {},
   "outputs": [
    {
     "name": "stdout",
     "output_type": "stream",
     "text": [
      "model_name='sentence-transformers/all-MiniLM-L6-v2' embed_batch_size=10 callback_manager=<llama_index.core.callbacks.base.CallbackManager object at 0x1358bb3a0> num_workers=None max_length=256 normalize=True query_instruction=None text_instruction=None cache_folder=None\n"
     ]
    }
   ],
   "source": [
    "# Initialize the Groq LLM and HuggingFace embedding model\n",
    "llm = Groq(model=\"llama3-70b-8192\", api_key=GROQ_API_KEY)\n",
    "embed_model = HuggingFaceEmbedding(model_name=\"sentence-transformers/all-MiniLM-L6-v2\")\n",
    "print(embed_model)"
   ]
  },
  {
   "cell_type": "markdown",
   "metadata": {},
   "source": [
    "Step 7: Perform a Natural Language Query"
   ]
  },
  {
   "cell_type": "code",
   "execution_count": 10,
   "metadata": {},
   "outputs": [],
   "source": [
    "# Define your prompt to ask for both SQL query and result\n",
    "prompt = [\n",
    "    \"\"\"\n",
    "    You are an expert in converting English questions to SQL queries!\n",
    "    The SQL database has the name OLYMPIC_MEDALS and has the following columns - Rank, Country, Country Code, Gold, Silver, Bronze, Total\n",
    "\n",
    "    For example,\n",
    "    Example 1 - Which country won the most gold medals? \n",
    "    The SQL command will be something like this: \n",
    "    SELECT Country FROM OLYMPIC_MEDALS ORDER BY Gold DESC LIMIT 1;\n",
    "    The result will be: United States\n",
    "    \n",
    "    Example 2 - Show the top 5 countries by total medals.\n",
    "    The SQL command will be something like this: \n",
    "    SELECT Country FROM OLYMPIC_MEDALS ORDER BY Total DESC LIMIT 5;\n",
    "    The result will be: United States, China, Russia, etc.\n",
    "    \n",
    "    Provide the SQL query and the result. The SQL code should not have ``` in the beginning or end, and the word SQL should not be included in the output.\n",
    "    \"\"\"\n",
    "]"
   ]
  },
  {
   "cell_type": "code",
   "execution_count": 11,
   "metadata": {},
   "outputs": [],
   "source": [
    "# Initialize the query engine with custom prompt\n",
    "query_engine = NLSQLTableQueryEngine(\n",
    "    sql_database=SQLDatabase(engine, include_tables=[\"olympic_medals\"]), \n",
    "    tables=[\"olympic_medals\"], \n",
    "    llm=llm, \n",
    "    embed_model=embed_model,\n",
    "    prompt=prompt\n",
    ")"
   ]
  },
  {
   "cell_type": "code",
   "execution_count": 12,
   "metadata": {},
   "outputs": [
    {
     "data": {
      "text/plain": [
       "Response(response='The country that won the most gold medals is the United States, with a total of 40 gold medals.', source_nodes=[NodeWithScore(node=TextNode(id_='364c488c-3914-41ad-b2a8-39cb252bf176', embedding=None, metadata={'sql_query': 'SELECT Country, Gold FROM olympic_medals ORDER BY Gold DESC LIMIT 1;', 'result': [('United States', 40)], 'col_keys': ['Country', 'Gold']}, excluded_embed_metadata_keys=['sql_query', 'result', 'col_keys'], excluded_llm_metadata_keys=['sql_query', 'result', 'col_keys'], relationships={}, text=\"[('United States', 40)]\", mimetype='text/plain', start_char_idx=None, end_char_idx=None, text_template='{metadata_str}\\n\\n{content}', metadata_template='{key}: {value}', metadata_seperator='\\n'), score=None)], metadata={'364c488c-3914-41ad-b2a8-39cb252bf176': {'sql_query': 'SELECT Country, Gold FROM olympic_medals ORDER BY Gold DESC LIMIT 1;', 'result': [('United States', 40)], 'col_keys': ['Country', 'Gold']}, 'sql_query': 'SELECT Country, Gold FROM olympic_medals ORDER BY Gold DESC LIMIT 1;', 'result': [('United States', 40)], 'col_keys': ['Country', 'Gold']})"
      ]
     },
     "execution_count": 12,
     "metadata": {},
     "output_type": "execute_result"
    }
   ],
   "source": [
    "# Perform a natural language query\n",
    "query_str = \"Which country won the most gold medals?\"\n",
    "response = query_engine.query(query_str)\n",
    "response\n"
   ]
  },
  {
   "cell_type": "code",
   "execution_count": 13,
   "metadata": {},
   "outputs": [
    {
     "name": "stdout",
     "output_type": "stream",
     "text": [
      "Original Response: The country that won the most gold medals is the United States, with a total of 40 gold medals.\n",
      "SQL Query: SELECT Country, Gold FROM olympic_medals ORDER BY Gold DESC LIMIT 1;\n",
      "Result: [('United States', 40)]\n"
     ]
    }
   ],
   "source": [
    "# Extract SQL query and results from the response\n",
    "metadata = response.source_nodes[0].metadata\n",
    "sql_query = metadata.get('sql_query', 'No SQL query found')\n",
    "result = metadata.get('result', 'No result found')\n",
    "\n",
    "# Display the original response\n",
    "print(f\"Original Response: {response.response}\")\n",
    "\n",
    "# Display the SQL query, result, and the original response\n",
    "print(f\"SQL Query: {sql_query}\")\n",
    "print(f\"Result: {result}\")\n"
   ]
  },
  {
   "cell_type": "code",
   "execution_count": null,
   "metadata": {},
   "outputs": [],
   "source": []
  }
 ],
 "metadata": {
  "kernelspec": {
   "display_name": "env",
   "language": "python",
   "name": "python3"
  },
  "language_info": {
   "codemirror_mode": {
    "name": "ipython",
    "version": 3
   },
   "file_extension": ".py",
   "mimetype": "text/x-python",
   "name": "python",
   "nbconvert_exporter": "python",
   "pygments_lexer": "ipython3",
   "version": "3.10.4"
  }
 },
 "nbformat": 4,
 "nbformat_minor": 2
}
